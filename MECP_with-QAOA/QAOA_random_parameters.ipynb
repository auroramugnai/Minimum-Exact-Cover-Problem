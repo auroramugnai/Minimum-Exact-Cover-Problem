{
 "cells": [
  {
   "cell_type": "markdown",
   "id": "0061969c",
   "metadata": {
    "colab_type": "text",
    "id": "view-in-github"
   },
   "source": [
    "<a href=\"https://colab.research.google.com/github/auroramugnai/Minimum-Exact-Cover-Problem/blob/main/MECP_with-QAOA/QAOA_random_parameters.ipynb\" target=\"_parent\"><img src=\"https://colab.research.google.com/assets/colab-badge.svg\" alt=\"Open In Colab\"/></a>"
   ]
  },
  {
   "cell_type": "markdown",
   "id": "3204bf1d-79ea-463e-9439-1c3188739bef",
   "metadata": {
    "id": "3204bf1d-79ea-463e-9439-1c3188739bef"
   },
   "source": [
    "# Solving the MECP with QAOA+ using \"Random Parameters\" technique"
   ]
  },
  {
   "cell_type": "code",
   "execution_count": 1,
   "id": "i9fkyMltNiu5",
   "metadata": {
    "colab": {
     "base_uri": "https://localhost:8080/"
    },
    "id": "i9fkyMltNiu5",
    "outputId": "ea5f462b-433b-47a9-f5ea-d1b770971f0b",
    "tags": []
   },
   "outputs": [],
   "source": [
    "# Google Drive\n",
    "# from google.colab import drive\n",
    "# drive.mount('/content/drive')\n",
    "\n",
    "# %cd /content/drive/MyDrive/ICFO_CODICI/progetto/MECP_with-QAOA\n",
    "# ! pip install -r requirements.txt"
   ]
  },
  {
   "cell_type": "markdown",
   "id": "922bae2a-182e-49bd-a439-be6e6a540c97",
   "metadata": {
    "id": "922bae2a-182e-49bd-a439-be6e6a540c97",
    "tags": []
   },
   "source": [
    "## Import Modules & Define Functions"
   ]
  },
  {
   "cell_type": "code",
   "execution_count": 1,
   "id": "dcf17856-d2fa-4415-94c7-331db4ed20c2",
   "metadata": {
    "id": "dcf17856-d2fa-4415-94c7-331db4ed20c2",
    "tags": []
   },
   "outputs": [],
   "source": [
    "from __future__ import annotations\n",
    "from utils_to_build_QAOAAnsatz import *"
   ]
  },
  {
   "cell_type": "code",
   "execution_count": 2,
   "id": "5ce4cb70-5b94-4c45-9726-7376f6342a52",
   "metadata": {
    "id": "5ce4cb70-5b94-4c45-9726-7376f6342a52",
    "tags": []
   },
   "outputs": [],
   "source": [
    "from datetime import datetime\n",
    "import math\n",
    "import random\n",
    "import time\n",
    "\n",
    "from qiskit.transpiler.preset_passmanagers import generate_preset_pass_manager\n",
    "from qiskit.primitives import StatevectorEstimator, StatevectorSampler\n",
    "from scipy.optimize import minimize\n",
    "from pprint import pprint # to print dictionaries"
   ]
  },
  {
   "cell_type": "code",
   "execution_count": 3,
   "id": "443dfe6e-e754-420c-91d8-5c6faed50ec6",
   "metadata": {
    "id": "443dfe6e-e754-420c-91d8-5c6faed50ec6",
    "tags": []
   },
   "outputs": [],
   "source": [
    "def write_params_on_file(DATA_FILE, params):\n",
    "\n",
    "    DATA_FILE.write(\"\\nChosen parameters:\\n\")\n",
    "    DATA_FILE.write(f\"Number of layers (p): {params['p']}\\n\")\n",
    "    DATA_FILE.write(f\"Number of random attempts: {params['random_attempts']}\\n\")\n",
    "    DATA_FILE.write(f\"Initialization type: {params['init_string']}\\n\")\n",
    "    DATA_FILE.write(f\"Size (n): {params['n']}\\n\")\n",
    "    DATA_FILE.write(f\"Chosen instances (chosen_instances): {params['chosen_instances']}\\n\")\n",
    "    DATA_FILE.write(f\"Choices of k (chosen_ks): {params['chosen_ks']}\\n\")\n",
    "\n",
    "\n",
    "    # Display the chosen parameters\n",
    "    print(f\"######### ...Writing on file...: #########\")\n",
    "    print(\"Chosen parameters:\")\n",
    "    print(f\"Number of layers (p): {params['p']}\")\n",
    "    print(f\"Number of random attempts: {params['random_attempts']}\")\n",
    "    print(f\"Initialization type: {params['init_string']}\")\n",
    "    print(f\"Size (n): {params['n']}\")\n",
    "    print(f\"Chosen instances (chosen_instances): {params['chosen_instances']}\")\n",
    "    print(f\"Choice of ks (chosen_ks): {params['chosen_ks']}\")\n",
    "    print(f\"##########################################\")\n",
    "\n",
    "def compute_L_EC(info_dim6):\n",
    "    \"\"\" For each instance, compute the number of ones in each exact cover string\n",
    "    that is not the mec string.\"\"\"\n",
    "    L_ECs = []\n",
    "    for key in info_dim6:  \n",
    "        if key != 'U':\n",
    "            ec_strings = info_dim6[key]['exact_covers']\n",
    "            mec_string = info_dim6[key]['mec']\n",
    "            for ec in ec_strings:\n",
    "                if ec != mec_string:\n",
    "                    L_ECs.append(ec.count('1'))\n",
    "    print(\"L_ECs:\", L_ECs)\n",
    "    return L_ECs\n",
    "\n",
    "def compute_L_MEC(info_dim6):\n",
    "    \"\"\" For each instance, compute the number of ones in the mec string.\"\"\"\n",
    "    L_MECs = []\n",
    "    for key in info_dim6:  \n",
    "        if key != 'U':\n",
    "            mec_string = info_dim6[key]['mec']\n",
    "            L_MECs.append(mec_string.count('1'))\n",
    "    print(\"L_MECs:\", L_MECs)\n",
    "    return L_MECs\n",
    "\n",
    "def compute_L_from_k(info_dim6, k):\n",
    "    \"\"\" Compute L from k, where k is a parameter that we choose.\n",
    "    k = L/(min_length * n) so L = k * min_length * n\n",
    "    where min_length is the minimum number of elements in a subset of an instance \n",
    "    and n is the number of subsets in the instance.\n",
    "    Parameters\n",
    "    ----------\n",
    "    k : float\n",
    "        The parameter k.\n",
    "    info_dim6 : dict\n",
    "        The dictionary containing the instances information.\n",
    "    Returns\n",
    "    -------\n",
    "    Ls : list\n",
    "        A list of L values computed from k for each instance.\n",
    "    \"\"\"\n",
    "    n = 6  \n",
    "    Ls = []\n",
    "    for instance in info_dim6.keys():\n",
    "        if instance == 'U':\n",
    "            continue\n",
    "        min_length = min(len(s) for s in info_dim6[instance]['subsets'])\n",
    "        Ls.append(int(k * min_length * n))\n",
    "\n",
    "    print(f\"Ls from k={k}:\", Ls)\n",
    "\n"
   ]
  },
  {
   "cell_type": "code",
   "execution_count": 5,
   "id": "d09ec4be",
   "metadata": {
    "tags": []
   },
   "outputs": [
    {
     "name": "stdout",
     "output_type": "stream",
     "text": [
      "L_ECs: [3, 4, 4, 3, 4, 3, 4, 3, 4, 3]\n",
      "L_MECs: [2, 3, 3, 2, 3, 2, 3, 2, 3, 2]\n",
      "Ls from k=1: [12, 12, 12, 12, 12, 18, 12, 18, 12, 18]\n"
     ]
    }
   ],
   "source": [
    "from random_instances import info_dim6\n",
    "compute_L_EC(info_dim6)\n",
    "compute_L_MEC(info_dim6)\n",
    "compute_L_from_k(info_dim6, 1)\n"
   ]
  },
  {
   "cell_type": "markdown",
   "id": "3e3f9cbc-9ff5-42fb-9ace-a649b9886abe",
   "metadata": {
    "id": "3e3f9cbc-9ff5-42fb-9ace-a649b9886abe",
    "tags": []
   },
   "source": [
    "## Set Parameters"
   ]
  },
  {
   "cell_type": "code",
   "execution_count": 4,
   "id": "02d94a50-8eb7-415e-91b3-886955589c54",
   "metadata": {
    "colab": {
     "base_uri": "https://localhost:8080/"
    },
    "id": "02d94a50-8eb7-415e-91b3-886955589c54",
    "outputId": "38fa2086-6f62-4ff0-e5db-4bd860fc125a",
    "tags": []
   },
   "outputs": [
    {
     "name": "stdout",
     "output_type": "stream",
     "text": [
      "Number of layers (p), default is 4:  \n",
      "Number of random attempts, default is 50:  \n",
      "String initialization (all1 or all0), default is all0:  \n",
      "Size n (6, 8, 10), default is 6:  \n",
      "Chosen instances, default is [1, ..., 10] (Give a list please!):  [5]\n",
      "Choice for L, to compute k as L/(min_length * n). Give a list specifying L for every instance chosen please. [12]\n"
     ]
    }
   ],
   "source": [
    "### Get parameters from the user\n",
    "params = get_parameters_from_user()\n",
    "\n",
    "# Get the parameters separately\n",
    "chosen_instances = params['chosen_instances']\n",
    "chosen_ks = params['chosen_ks']\n",
    "p = params['p']\n",
    "random_attempts = params['random_attempts']\n",
    "init_string = params['init_string']\n",
    "\n",
    "n = params['n']"
   ]
  },
  {
   "cell_type": "markdown",
   "id": "79b7c8da-bb75-4fb6-8a97-3f929867d103",
   "metadata": {
    "id": "79b7c8da-bb75-4fb6-8a97-3f929867d103",
    "tags": []
   },
   "source": [
    "## For Every Instance Chosen, Do the Minimization\n",
    "This code iterates through selected instances, generating corresponding subsets and computing the spectrum of states, including Minimum Exact Cover (MEC) states. It then builds the quantum circuits for the QAOA+ algorithm, including cost, mixing, and initialization circuits. Initial angles (betas and gammas) are randomly set within specified bounds, and the QAOA+ algorithm is run for multiple random initializations to minimize energy. Results, such as the optimal parameters, best attempt, minimum energy, and elapsed time, are recorded. Final data of each instance is saved in a .csv and a .txt.\n",
    "\n"
   ]
  },
  {
   "cell_type": "code",
   "execution_count": null,
   "id": "4d5082b9-b2d0-49df-9bcf-ac03f225f256",
   "metadata": {
    "colab": {
     "base_uri": "https://localhost:8080/",
     "height": 1000
    },
    "id": "4d5082b9-b2d0-49df-9bcf-ac03f225f256",
    "outputId": "db59a959-f7a2-4766-8629-202a1bef424c",
    "scrolled": true,
    "tags": []
   },
   "outputs": [
    {
     "name": "stdout",
     "output_type": "stream",
     "text": [
      "Saving in folder_path = random_parameters_2025-09-09@17h34m46s\n",
      "1.0 5\n",
      "**************************************************\n",
      "Instance 5 with h = 1.0\n",
      "\n",
      "U, subsets, EXACT_COVERS, MEC {1, 2, 3, 4, 5, 6, 7, 8, 9, 10, 11, 12} [{9, 11}, {5, 6}, {1, 2, 4, 5, 7, 8, 9, 10, 11, 12}, {10, 12}, {10, 12, 5, 6}, {1, 2, 3, 4, 7, 8}] ['100011', '110101'] ['100011']\n"
     ]
    },
    {
     "data": {
      "image/png": "[encoded data removed]",
      "text/plain": [
       "<Figure size 900x300 with 1 Axes>"
      ]
     },
     "metadata": {},
     "output_type": "display_data"
    },
    {
     "data": {
      "image/png": "[encoded data removed]",
      "text/plain": [
       "<Figure size 700x300 with 1 Axes>"
      ]
     },
     "metadata": {},
     "output_type": "display_data"
    },
    {
     "name": "stdout",
     "output_type": "stream",
     "text": [
      "Universe: {1, 2, 3, 4, 5, 6, 7, 8, 9, 10, 11, 12}\n",
      "Subsets:\n",
      "  1: {9, 11}\n",
      "  2: {5, 6}\n",
      "  3: {1, 2, 4, 5, 7, 8, 9, 10, 11, 12}\n",
      "  4: {10, 12}\n",
      "  5: {10, 12, 5, 6}\n",
      "  6: {1, 2, 3, 4, 7, 8}\n",
      "num_max_ctrl: 5\n",
      "NUM_ANC: 4\n",
      "QC_DIM: 10\n",
      "A = 1.1142857142857143\n",
      "B = 0.04285714285714286\n",
      "constant = -A + B = -1.0714285714285714\n",
      "\n",
      "hamiltonian:\n",
      " SparsePauliOp(['IIIIIIIIIZ', 'IIIIIIIIZI', 'IIIIIIIZII', 'IIIIIIZIII', 'IIIIIZIIII', 'IIIIZIIIII'],\n",
      "              coeffs=[0.07857143+0.j, 0.07857143+0.j, 0.42142857+0.j, 0.07857143+0.j,\n",
      " 0.16428571+0.j, 0.25      +0.j])\n",
      "Universe: {1, 2, 3, 4, 5, 6, 7, 8, 9, 10, 11, 12}\n",
      "Subsets:\n",
      "  1: {9, 11}\n",
      "  2: {5, 6}\n",
      "  3: {1, 2, 4, 5, 7, 8, 9, 10, 11, 12}\n",
      "  4: {10, 12}\n",
      "  5: {10, 12, 5, 6}\n",
      "  6: {1, 2, 3, 4, 7, 8}\n",
      "num_max_ctrl: 5\n",
      "NUM_ANC: 4\n",
      "QC_DIM: 10\n",
      "Mixing circuit created for instance 5 with 6 qubits.\n",
      "Circuit dimension (QC_DIM): 10\n",
      "Number of ancillas: 4\n",
      "Number of control gates: 5\n",
      "Universe: {1, 2, 3, 4, 5, 6, 7, 8, 9, 10, 11, 12}\n",
      "Subsets:\n",
      "  1: {9, 11}\n",
      "  2: {5, 6}\n",
      "  3: {1, 2, 4, 5, 7, 8, 9, 10, 11, 12}\n",
      "  4: {10, 12}\n",
      "  5: {10, 12, 5, 6}\n",
      "  6: {1, 2, 3, 4, 7, 8}\n",
      "num_max_ctrl: 5\n",
      "NUM_ANC: 4\n",
      "QC_DIM: 10\n",
      "Initialization circuit created for instance 5 with 6 qubits.\n",
      "Initial state(s): ['000000']\n",
      "Quantum circuit dimension (QC_DIM): 10\n",
      "Number of ancillas: 4\n",
      "Universe: {1, 2, 3, 4, 5, 6, 7, 8, 9, 10, 11, 12}\n",
      "Subsets:\n",
      "  1: {9, 11}\n",
      "  2: {5, 6}\n",
      "  3: {1, 2, 4, 5, 7, 8, 9, 10, 11, 12}\n",
      "  4: {10, 12}\n",
      "  5: {10, 12, 5, 6}\n",
      "  6: {1, 2, 3, 4, 7, 8}\n",
      "Gamma bounds -> [0, 19.991953250116865] or [-9.995976625058432, 9.995976625058432]\n",
      "######### ...Writing on file...: #########\n",
      "Chosen parameters:\n",
      "Number of layers (p): 4\n",
      "Number of random attempts: 50\n",
      "Initialization type: all0\n",
      "Size (n): 6\n",
      "Chosen instances (chosen_instances): [5]\n",
      "Choice of ks (chosen_ks): [1.0]\n",
      "##########################################\n",
      "\n",
      "---------- 1/50 random_attempts -----------\n",
      "\n",
      "pars_0 = [4.627110681521026, 1.9325049565910586, 4.766109117708693, 3.6968959059130944, -3.204928763747569, 4.887209796788785, -8.400651252583367, -5.792203476351554]\n",
      "bnds = [(0, 6.283185307179586), (0, 6.283185307179586), (0, 6.283185307179586), (0, 6.283185307179586), (-9.995976625058432, 9.995976625058432), (-9.995976625058432, 9.995976625058432), (-9.995976625058432, 9.995976625058432), (-9.995976625058432, 9.995976625058432)]\n",
      "\n"
     ]
    },
    {
     "name": "stderr",
     "output_type": "stream",
     "text": [
      "/tmp/ipykernel_257/2914445766.py:114: RuntimeWarning: Maximum number of function evaluations has been exceeded.\n",
      "  result = minimize(cost_func, # change cost_func -> cost_func_plot to plot iterations\n"
     ]
    },
    {
     "name": "stdout",
     "output_type": "stream",
     "text": [
      "E_min = result.fun + constant = -0.8050651177553079\n",
      "E_min = result.fun = 0.26636345367326353\n",
      "\n",
      "Optimal parameters: betas, gammas = [5.544146632603955, 2.1140156787817297, 4.169847587190766, 2.9561563656321086], [-2.5678161706735105, 3.8019804880223447, -9.995976625038061, -2.780576567726585]\n",
      "--> ***UPDATING THE BEST ATTEMPT***\n",
      "\n",
      "    states  counts_p4_1of50\n",
      "13  100101              288\n",
      "11  100011              212\n",
      "9   100001              198\n",
      "6   001000               58\n",
      "16  110101               53\n",
      "8   010101               50\n",
      "3   000011               48\n",
      "15  110001               47\n",
      "1   000001               30\n",
      "7   010001               22\n",
      "4   000100                6\n",
      "10  100010                3\n",
      "5   000101                2\n",
      "12  100100                2\n",
      "2   000010                2\n",
      "14  110000                2\n",
      "0   000000                1\n",
      "\n",
      "---------- 2/50 random_attempts -----------\n",
      "\n",
      "pars_0 = [2.645298412600338, 3.9714802101288202, 3.5801243842873998, 1.5537564958527628, 8.599110461030975, 8.603397217161021, -7.875114030338728, -4.399018084182258]\n",
      "bnds = [(0, 6.283185307179586), (0, 6.283185307179586), (0, 6.283185307179586), (0, 6.283185307179586), (-9.995976625058432, 9.995976625058432), (-9.995976625058432, 9.995976625058432), (-9.995976625058432, 9.995976625058432), (-9.995976625058432, 9.995976625058432)]\n",
      "\n",
      "Optimization terminated successfully.\n",
      "         Current function value: 0.100000\n",
      "         Iterations: 416\n",
      "         Function evaluations: 685\n",
      "E_min = result.fun + constant = -0.9714285714285742\n",
      "E_min = result.fun = 0.09999999999999726\n",
      "\n",
      "Optimal parameters: betas, gammas = [3.1415926540226957, 6.283185304008367, 6.283185305894104, 6.147114606768341e-09], [8.718003215922305, 5.041789349277318, -9.665660102664624, -1.4389142571127849]\n",
      "--> ***UPDATING THE BEST ATTEMPT***\n",
      "\n",
      "   states  counts_p4_2of50\n",
      "0  110101             1024\n",
      "\n",
      "---------- 3/50 random_attempts -----------\n",
      "\n",
      "pars_0 = [5.55239890309149, 3.272154145194088, 0.6409230887346902, 5.825338542962353, -3.9584225463385003, 6.909517332653962, 7.828626629357348, 4.661219180515818]\n",
      "bnds = [(0, 6.283185307179586), (0, 6.283185307179586), (0, 6.283185307179586), (0, 6.283185307179586), (-9.995976625058432, 9.995976625058432), (-9.995976625058432, 9.995976625058432), (-9.995976625058432, 9.995976625058432), (-9.995976625058432, 9.995976625058432)]\n",
      "\n"
     ]
    },
    {
     "name": "stderr",
     "output_type": "stream",
     "text": [
      "/tmp/ipykernel_257/2914445766.py:114: RuntimeWarning: Maximum number of function evaluations has been exceeded.\n",
      "  result = minimize(cost_func, # change cost_func -> cost_func_plot to plot iterations\n"
     ]
    },
    {
     "name": "stdout",
     "output_type": "stream",
     "text": [
      "E_min = result.fun + constant = -0.9714332632701921\n",
      "E_min = result.fun = 0.09999530815837937\n",
      "\n",
      "Optimal parameters: betas, gammas = [6.28255853536875, 3.1417120231289832, 0.6533823901679408, 5.630863721579479], [-4.113967569484336, 0.8002638318847026, 9.995976625058432, -0.0023932837588208156]\n",
      "--> ***UPDATING THE BEST ATTEMPT***\n",
      "\n",
      "   states  counts_p4_3of50\n",
      "0  110101             1024\n",
      "\n",
      "---------- 4/50 random_attempts -----------\n",
      "\n",
      "pars_0 = [5.459651866139767, 5.643665956724297, 3.0176844302475283, 5.55299782957894, -3.7388981566134527, 6.387610679003249, -1.4079620618780648, 3.9536308163394516]\n",
      "bnds = [(0, 6.283185307179586), (0, 6.283185307179586), (0, 6.283185307179586), (0, 6.283185307179586), (-9.995976625058432, 9.995976625058432), (-9.995976625058432, 9.995976625058432), (-9.995976625058432, 9.995976625058432), (-9.995976625058432, 9.995976625058432)]\n",
      "\n",
      "Optimization terminated successfully.\n",
      "         Current function value: 0.100000\n",
      "         Iterations: 357\n",
      "         Function evaluations: 590\n",
      "E_min = result.fun + constant = -0.9714285714285743\n",
      "E_min = result.fun = 0.09999999999999709\n",
      "\n",
      "Optimal parameters: betas, gammas = [6.2831852982669, 6.283185300727146, 3.1415926510950167, 6.283185285617332], [-3.1837155929116623, 6.005638821539493, -0.997668642095418, 4.47223721321737]\n",
      "--> ***NOT UPDATING THE BEST ATTEMPT***\n",
      "\n",
      "   states  counts_p4_4of50\n",
      "0  110101             1024\n",
      "\n",
      "---------- 5/50 random_attempts -----------\n",
      "\n",
      "pars_0 = [4.922245421912147, 1.9479178615315726, 3.2014159924339656, 3.1790996766418873, 8.489321207115157, -9.05752355854523, 5.971987287943772, -9.127036572021366]\n",
      "bnds = [(0, 6.283185307179586), (0, 6.283185307179586), (0, 6.283185307179586), (0, 6.283185307179586), (-9.995976625058432, 9.995976625058432), (-9.995976625058432, 9.995976625058432), (-9.995976625058432, 9.995976625058432), (-9.995976625058432, 9.995976625058432)]\n",
      "\n"
     ]
    },
    {
     "name": "stderr",
     "output_type": "stream",
     "text": [
      "/tmp/ipykernel_257/2914445766.py:114: RuntimeWarning: Maximum number of function evaluations has been exceeded.\n",
      "  result = minimize(cost_func, # change cost_func -> cost_func_plot to plot iterations\n"
     ]
    },
    {
     "name": "stdout",
     "output_type": "stream",
     "text": [
      "E_min = result.fun + constant = -0.801641095883901\n",
      "E_min = result.fun = 0.2697874755446704\n",
      "\n",
      "Optimal parameters: betas, gammas = [5.499647669275182, 2.1064083433707728, 4.06579597875208, 3.1057847505246476], [9.995976625058432, -3.98146848987267, 9.995848039650149, -9.755530455097588]\n",
      "--> ***NOT UPDATING THE BEST ATTEMPT***\n",
      "\n",
      "    states  counts_p4_5of50\n",
      "15  100101              305\n",
      "13  100011              190\n",
      "11  100001              187\n",
      "19  110101               71\n",
      "5   001000               68\n",
      "2   000011               51\n",
      "9   010101               46\n",
      "17  110001               28\n",
      "7   010001               27\n",
      "1   000001               26\n",
      "14  100100               10\n",
      "4   000101                5\n",
      "16  110000                2\n",
      "12  100010                2\n",
      "18  110100                1\n",
      "0   000000                1\n",
      "8   010100                1\n",
      "6   010000                1\n",
      "3   000100                1\n",
      "10  100000                1\n",
      "\n",
      "---------- 6/50 random_attempts -----------\n",
      "\n",
      "pars_0 = [5.017710753380805, 3.6697090571031556, 3.394136542818099, 0.30202674479687847, -4.959436597146861, 5.4703758464068475, -2.464994324086371, -6.467907717880757]\n",
      "bnds = [(0, 6.283185307179586), (0, 6.283185307179586), (0, 6.283185307179586), (0, 6.283185307179586), (-9.995976625058432, 9.995976625058432), (-9.995976625058432, 9.995976625058432), (-9.995976625058432, 9.995976625058432), (-9.995976625058432, 9.995976625058432)]\n",
      "\n"
     ]
    }
   ],
   "source": [
    "current_datetime = datetime.now().strftime(\"%Y-%m-%d@%Hh%Mm%Ss\")\n",
    "\n",
    "# Create a  directory where to collect files\n",
    "folder_path = f\"random_parameters_{current_datetime}\"\n",
    "print(f\"Saving in folder_path = {folder_path}\")\n",
    "os.makedirs(folder_path, exist_ok=True)\n",
    "\n",
    "# Run QAOA+ for every instance.\n",
    "for h, instance in zip(chosen_ks, chosen_instances):\n",
    "    print(h, instance)\n",
    "    print(\"*\"*50)\n",
    "    print(f\"Instance {instance} with h = {h}\\n\")\n",
    "\n",
    "    FILENAME_list = [] # list of .csv containing the final histograms data.\n",
    "    DATA_FILENAME_list = [] # list of .txt containing metadata such as energies, betas, gammas.\n",
    "\n",
    "\n",
    "    # Define the instance.\n",
    "    U, subsets_dict = define_instance(n, instance, verbose=False)\n",
    "    subsets = list(subsets_dict.values())\n",
    "    _, _, _, _, EXACT_COVERS = find_spectrum(U, subsets_dict, n, h)\n",
    "    MEC = [state for state in EXACT_COVERS if state.count(\"1\") == min([x.count(\"1\")  for x in EXACT_COVERS])]\n",
    "\n",
    "    print(\"U, subsets, EXACT_COVERS, MEC\", U, subsets, EXACT_COVERS, MEC)\n",
    "\n",
    "    # Plot states vs energy.\n",
    "    show_spectrum(n, instance, h, fontsize=10)\n",
    "\n",
    "\n",
    "    # Choose the initialization.\n",
    "    if init_string == 'all1':\n",
    "        # Only \"1\"-states.\n",
    "        init_name = [\"\".join(elem) for elem in distinct_permutations('0'*(n-1) + '1')]\n",
    "\n",
    "    elif init_string == 'all0':\n",
    "        init_name = [\"000000\"]\n",
    "\n",
    "\n",
    "    # Prepare the cost and mixing circuit.\n",
    "    constant, hamiltonian, qc_cost = build_cost_circuit(n, instance, h, verbose=True)\n",
    "    qc_mixing = build_mixing_circuit(n, instance,verbose=True)\n",
    "    qc_initial, check_counts  = build_initialization_circuit(n, instance, init_name, verbose=True)\n",
    "\n",
    "    # # Check that initialization was correct.\n",
    "    # plot_histogram(check_counts, ax=plt.subplots()[1], title=\"Initialization check\", color='k')\n",
    "    # plt.show(block=False) # don't stop execution\n",
    "\n",
    "\n",
    "    # Set initial angles.\n",
    "    gamma_bound = find_gamma_bound(n, instance, h, verbose=True)\n",
    "\n",
    "    beta_0 = (0, 2*np.pi)\n",
    "    gamma_0 =  (-gamma_bound, gamma_bound)\n",
    "    string_0 = f\"[0,2pi]x[-{gamma_bound},{gamma_bound}]\"\n",
    "\n",
    "    bnds_beta = (0, 2*np.pi)\n",
    "    bnds_gamma = (-gamma_bound, gamma_bound)\n",
    "    bnds_string = f\"[0,2pi]x[-{gamma_bound},{gamma_bound}]\"\n",
    "\n",
    "\n",
    "    # Build files' names.\n",
    "    header = f\"dim{n}_mail{instance}_{init_string}\" \\\n",
    "           + f\"_random_p{p}_{random_attempts}ra_k{h}\" \\\n",
    "           + f\"_BOUNDS{bnds_string}_pars0{string_0}\"\n",
    "\n",
    "    FILENAME = os.path.join(folder_path, header + f\".csv\")\n",
    "    DATA_FILENAME = os.path.join(folder_path, header + f\"_data.txt\")\n",
    "\n",
    "    FILENAME_list.append(FILENAME)\n",
    "    DATA_FILENAME_list.append(DATA_FILENAME)\n",
    "\n",
    "\n",
    "    # Record the details of each attempt in a file.\n",
    "    with open(DATA_FILENAME, 'a') as DATA_FILE:\n",
    "        write_params_on_file(DATA_FILE, params) # Write global parameters\n",
    "\n",
    "        E_best = 100\n",
    "        TOTAL_start_time = time.time()\n",
    "\n",
    "        for attempt in range(1,random_attempts+1):\n",
    "            print(f\"\\n---------- {attempt}/{random_attempts} random_attempts -----------\\n\")\n",
    "            DATA_FILE.write(f\"\\n---------- {attempt}/{random_attempts} random_attempts -----------\\n\")\n",
    "\n",
    "            # Build QAOAAnsatz.\n",
    "            cost_vs_iteration = [] # to save (and plot) iterations\n",
    "            ansatz = QAOAAnsatz(qc_cost,\n",
    "                                mixer_operator=qc_mixing,\n",
    "                                initial_state=qc_initial,\n",
    "                                reps=p, name='QAOA+')\n",
    "\n",
    "\n",
    "            # Generate a pass manager without providing a backend.\n",
    "            pm = generate_preset_pass_manager(optimization_level=3)\n",
    "            ansatz_isa = pm.run(ansatz)\n",
    "            hamiltonian_isa = hamiltonian.apply_layout(ansatz_isa.layout)\n",
    "\n",
    "            estimator = StatevectorEstimator()\n",
    "            sampler = StatevectorSampler()\n",
    "\n",
    "\n",
    "            # *************************  FIND OPTIMAL ANGLES  ***************************\n",
    "            # *************************     THROUGH QAOA+     ***************************\n",
    "\n",
    "            # Set initial angles and angles'bounds.\n",
    "            pars_0 = [random.uniform(*beta_0) for _ in range(p)] + \\\n",
    "                     [random.uniform(*gamma_0) for _ in range(p)]\n",
    "            bnds = [bnds_beta]*p + [bnds_gamma]*p\n",
    "\n",
    "            print(f\"pars_0 = {pars_0}\")\n",
    "            print(f\"bnds = {bnds}\\n\")\n",
    "\n",
    "\n",
    "            # Do the minimization.\n",
    "            result = minimize(cost_func, # change cost_func -> cost_func_plot to plot iterations\n",
    "                              pars_0, bounds=bnds,\n",
    "                              args=(ansatz_isa, hamiltonian_isa, estimator),\n",
    "                              method=\"Nelder-Mead\",\n",
    "                              options={\"disp\": True, \"maxiter\": 1200, \"maxfev\": 1200}, tol=1e-4)\n",
    "\n",
    "\n",
    "            # Works only if you chose cost_func_plot.\n",
    "            if cost_vs_iteration != []:\n",
    "                plt.figure()\n",
    "                plt.plot(cost_vs_iteration)\n",
    "                plt.xlabel(\"Iteration\")\n",
    "                plt.ylabel(\"Cost\")\n",
    "                plt.show()\n",
    "\n",
    "\n",
    "            # Minimum energy reached with minimization.\n",
    "            E_min = result.fun + constant\n",
    "            print(f\"E_min = result.fun + constant = {E_min}\")\n",
    "            print(f\"E_min = result.fun = {result.fun}\")\n",
    "            DATA_FILE.write(f\"\\nE_min = {E_min}\")\n",
    "\n",
    "\n",
    "            # Optimal parameters (betas, gammas) found.\n",
    "            betas = list(result.x[:p])\n",
    "            gammas = list(result.x[p:])\n",
    "            print(f\"\\nOptimal parameters: betas, gammas = {betas}, {gammas}\")\n",
    "            DATA_FILE.write(f'\\nE_min\\'s parameters: betas = {betas}, gammas = {gammas}\\n')\n",
    "\n",
    "\n",
    "            # Update the best attempt.\n",
    "            if E_min < E_best:\n",
    "                    E_best = E_min\n",
    "                    best_attempt = attempt\n",
    "                    print(\"--> ***UPDATING THE BEST ATTEMPT***\\n\")\n",
    "            else:\n",
    "                print(\"--> ***NOT UPDATING THE BEST ATTEMPT***\\n\")\n",
    "\n",
    "\n",
    "            # ****************************  RUN THE CIRCUIT  ******************************\n",
    "            # ************************ WITH OPTIMAL PARAMETERS ****************************\n",
    "\n",
    "            # Assign to the previously created ansatz the 2p parameters found.\n",
    "            pars = betas + gammas\n",
    "            qc = ansatz.assign_parameters(pars)\n",
    "            qc.measure_all() # add a measurement\n",
    "\n",
    "            # Run this circuit.\n",
    "            qc_isa = pm.run(qc)\n",
    "            output = sampler.run([qc_isa], shots=1024).result()\n",
    "            samp_dist = output[0].data.meas.get_counts()\n",
    "\n",
    "\n",
    "            # ****************************  POST PROCESS  **********************************\n",
    "            # *********************** AND SAVE THE OUTPUT HISTOGRAM ************************\n",
    "\n",
    "            # Create a dataframe from the sampling results.\n",
    "            df = pd.DataFrame(samp_dist.items(), columns=['states', 'counts'])\n",
    "\n",
    "            # Remove ancillary bits.\n",
    "            num_ancillas = get_circuit_parameters(subsets, verbose=False)[2]\n",
    "            df['states'] = df['states'].apply(lambda x: x[num_ancillas:])\n",
    "\n",
    "            # Invert the bit order for the states (e.g., convert \"01101\" to \"10110\").\n",
    "            df['states'] = df['states'].apply(lambda s: str(s)[::-1])  # Invertiamo l'ordine dei bit\n",
    "\n",
    "            # After removing the ancillary bits, we aggregate counts by state.\n",
    "            df = df.groupby(['states']).sum().reset_index()\n",
    "\n",
    "            # Sort in decreasing order.\n",
    "            df = df.sort_values('counts', ascending=False)\n",
    "\n",
    "            # Rename the \"counts\" column to include attempt details.\n",
    "            df.columns = ['states', f'counts_p{p}_{attempt}of{random_attempts}']\n",
    "\n",
    "            # Merge the current attempt dataframe with previously built dataframes.\n",
    "            if attempt == 1:\n",
    "                df_all_attempts = df\n",
    "            else:\n",
    "                df_all_attempts = pd.merge(df_all_attempts, df, on=\"states\", how=\"outer\")\n",
    "            \n",
    "            print(df)\n",
    "\n",
    "\n",
    "        # Save to .csv the global dataframe.\n",
    "        df_all_attempts.to_csv(FILENAME, index=False)\n",
    "\n",
    "\n",
    "        # Plot the best attempt (minimum energy), with error bars\n",
    "        # representing other attempts in the global dataframe.\n",
    "        plot_histogram_of_best_column(df_all_attempts,\n",
    "                                      f'counts_p{p}_{best_attempt}of{random_attempts}',\n",
    "                                      EXACT_COVERS, init_name,\n",
    "                                      fontsize=12, title=f\"Result (best attempt) for instance {instance}\")\n",
    "\n",
    "\n",
    "        DATA_FILE.write(\"\\n*******************************\")\n",
    "        DATA_FILE.write(f\"\\nAttempt that reached the best result with E_min = {E_best} is #{best_attempt} \")\n",
    "        DATA_FILE.write(f\"\\nTOTAL ELAPSED TIME: {(time.time() - TOTAL_start_time)/60} minutes.\\n\")\n",
    "        print(f\"Result saved in:\\n{FILENAME}\\n{DATA_FILENAME}\")\n",
    "        print(f\"\\nTOTAL ELAPSED TIME: {(time.time() - TOTAL_start_time)/60} minutes.\")"
   ]
  },
  {
   "cell_type": "markdown",
   "id": "b63189a2-bc10-4680-9719-7991f625cfb2",
   "metadata": {
    "id": "b63189a2-bc10-4680-9719-7991f625cfb2",
    "tags": []
   },
   "source": [
    "## (Optional) Draw the latest instance QAOA circuit"
   ]
  },
  {
   "cell_type": "code",
   "execution_count": null,
   "id": "e085f8fa-3e54-40b7-aa9a-9df1bc88fa98",
   "metadata": {
    "colab": {
     "base_uri": "https://localhost:8080/",
     "height": 495
    },
    "id": "e085f8fa-3e54-40b7-aa9a-9df1bc88fa98",
    "outputId": "9604c6b8-5735-474c-e9ec-664218dc890d",
    "tags": []
   },
   "outputs": [],
   "source": [
    "'110101', '100011'\n",
    "\n",
    "print(f\"Instance #{instance}\")\n",
    "ansatz.decompose(reps=2).draw(\"mpl\")"
   ]
  },
  {
   "cell_type": "markdown",
   "id": "788ba6c1-dc25-4202-a681-d40e8228cf4d",
   "metadata": {
    "id": "788ba6c1-dc25-4202-a681-d40e8228cf4d"
   },
   "source": [
    "## Plot from a saved folder ...\n",
    "### ... for each instance, the best attempt (with also mean and error displayed) or...\n",
    "Plot the results of all chosen instances for which QAOA has been computed or plot results from a previous run.\n",
    "\n",
    "The `find_files_containing_string` function will search for `.csv` and `.txt` files in the selected `path`. If provided, it will also search for files that contain a specific string of text."
   ]
  },
  {
   "cell_type": "code",
   "execution_count": null,
   "id": "d411fb84-1dde-45b2-9e07-18dcb05e0d71",
   "metadata": {
    "colab": {
     "base_uri": "https://localhost:8080/",
     "height": 496
    },
    "id": "d411fb84-1dde-45b2-9e07-18dcb05e0d71",
    "outputId": "6c92dd26-e56a-4e75-b250-9e5ebc568af1",
    "tags": []
   },
   "outputs": [],
   "source": [
    "# Uncomment this line to plot data from an existing directory\n",
    "# folder_path = \"random_parameters_2025-07-21@17h20m50s\" # LEC\n",
    "# folder_path = \"random_parameters_2025-07-22@15h10m16s\" # LEC-1\n",
    "\n",
    "# folder_path = \"random_parameters_2025-09-08@17h51m29s\" # k=1\n",
    "folder_path = \"random_parameters_2025-09-07@11h51m23s\" # L_EC\n",
    "\n",
    "# Find the files that contain every string in 'substrings'.\n",
    "FILENAME_list, DATA_FILENAME_list = find_files_containing_string(path= f\"./{folder_path}/\")\n",
    "\n",
    "# Get the number of files collected.\n",
    "num_files = len(FILENAME_list)\n",
    "\n",
    "if num_files>1:\n",
    "    plot_list_of_files(FILENAME_list, DATA_FILENAME_list,\n",
    "                       colorchosen=\"steelblue\", alpha=0.6,\n",
    "                       init_name=\"all1\",\n",
    "                       dont_show_in_title=[\"i\", \"k\"],\n",
    "                       dont_show_in_titles=[\"n\", \"p\", \"ra\", \"init\"],\n",
    "                       figsize=(8,num_files+1),\n",
    "                       dpi=200, N=9) # figsize=(10, 13), dpi=300, N=12 for latex figures\n",
    "else:\n",
    "    plot_file(FILENAME_list[0], DATA_FILENAME_list[0],\n",
    "              colorchosen='indigo', alpha=0.4,\n",
    "              dont_show_in_title = [],\n",
    "              figsize=(10,4), dpi=200, N=10)"
   ]
  },
  {
   "cell_type": "markdown",
   "id": "242a44b6-b3e4-43f3-928c-3348cffb925b",
   "metadata": {
    "id": "242a44b6-b3e4-43f3-928c-3348cffb925b"
   },
   "source": [
    "### ... for each instance, every single attempt"
   ]
  },
  {
   "cell_type": "code",
   "execution_count": null,
   "id": "0f25f0fb-0ec1-4718-b235-6b2a17c40f26",
   "metadata": {
    "id": "0f25f0fb-0ec1-4718-b235-6b2a17c40f26",
    "tags": []
   },
   "outputs": [],
   "source": [
    "# folder_path = \"random_parameters_2025-01-30@09h03m50s\"\n",
    "plot_each_attempt_from_folder(folder_path)"
   ]
  },
  {
   "cell_type": "code",
   "execution_count": null,
   "id": "ecd41f38-b6cb-465e-bd39-2d30ea3300d0",
   "metadata": {
    "id": "965c92e3-ad1a-4f06-954e-17a538c28aca",
    "tags": []
   },
   "outputs": [],
   "source": [
    "print(info_dim6)\n"
   ]
  },
  {
   "cell_type": "code",
   "execution_count": null,
   "id": "2b7ba8e2-a9b0-46f0-901e-e26d359ae032",
   "metadata": {},
   "outputs": [],
   "source": []
  }
 ],
 "metadata": {
  "colab": {
   "include_colab_link": true,
   "provenance": []
  },
  "kernelspec": {
   "display_name": "Python 3 (ipykernel)",
   "language": "python",
   "name": "python3"
  },
  "language_info": {
   "codemirror_mode": {
    "name": "ipython",
    "version": 3
   },
   "file_extension": ".py",
   "mimetype": "text/x-python",
   "name": "python",
   "nbconvert_exporter": "python",
   "pygments_lexer": "ipython3",
   "version": "3.8.10"
  }
 },
 "nbformat": 4,
 "nbformat_minor": 5
}
