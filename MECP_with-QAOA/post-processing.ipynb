{
 "cells": [
  {
   "cell_type": "code",
   "execution_count": null,
   "id": "0",
   "metadata": {
    "tags": []
   },
   "outputs": [],
   "source": [
    "from __future__ import annotations\n",
    "from utils_to_build_QAOAAnsatz import *\n",
    "import pprint\n",
    "\n",
    "pprint.pprint(info)"
   ]
  },
  {
   "cell_type": "code",
   "execution_count": null,
   "id": "1",
   "metadata": {
    "tags": []
   },
   "outputs": [],
   "source": [
    "# Random instances\n",
    "folder_list_random = [\"random_parameters_2025-09-12@14h56m00s\", # p=3 k=1 \n",
    "                      \"random_parameters_2025-09-12@12h30m08s\", # p=3 LEC\n",
    "                      \"random_parameters_2025-09-12@13h44m51s\", # p=3 LEC-1\n",
    "                      \"random_parameters_2025-09-16@08h28m21s\", # p=4 k=1 \n",
    "                      \"random_parameters_2025-09-10@18h01m06s\", # p=4 LEC\n",
    "                      \"random_parameters_2025-09-21@19h13m58s\"  # p=4 LEC-1\n",
    "                      ]\n",
    "\n",
    "# Wang instances\n",
    "folder_list_wang = [\"random_parameters_2025-09-24@10h30m53s\", # p=3 k=1 \n",
    "                    \"random_parameters_2025-09-24@08h09m40s\", # p=3 LEC\n",
    "                    \"random_parameters_2025-09-23@20h39m11s\", # p=3 LEC-1\n",
    "                    \"random_parameters_2025-09-14@10h46m48s\", # p=4 k=1 \n",
    "                    \"random_parameters_2025-09-13@16h32m19s\", # p=4 LEC\n",
    "                    \"random_parameters_2025-09-13@13h11m55s\"  # p=4 LEC-1\n",
    "                    ]\n",
    "\n",
    "labels = [\"p=3 k=1\",\n",
    "          \"p=3 LEC\",\n",
    "          \"p=3 LEC-1\",\n",
    "          \"p=4 k=1\",\n",
    "          \"p=4 LEC\",\n",
    "          \"p=4 LEC-1\"\n",
    "          ]"
   ]
  },
  {
   "cell_type": "code",
   "execution_count": null,
   "id": "2",
   "metadata": {
    "tags": []
   },
   "outputs": [],
   "source": [
    "def extract_percentage_from_file(f, d):\n",
    "    n, instance, init_name, p, random_attempts, k = define_parameters_from_filename(d, verbose=False)\n",
    "    U, subsets_dict = define_instance(n, instance, verbose=False)\n",
    "    EXACT_COVERS = find_spectrum(U, subsets_dict, n, k=1)[4]\n",
    "    MEC = min(EXACT_COVERS, key=lambda s: s.count('1'))  # MEC is the minimal energy cover\n",
    "    \n",
    "    # Load CSV data into pandas DataFrame and process it.\n",
    "    df = pd.read_csv(f, dtype=str).set_index('states')\n",
    "    df = df.astype(float).fillna(0.0)\n",
    "    \n",
    "    # Read metadata to extract the attempt that reached the best result.\n",
    "    with open(d, 'r') as dd:\n",
    "        for line in dd:\n",
    "            if 'Attempt that reached the best result with' in line:\n",
    "                string = line.split('#')[1]\n",
    "                i_best = string.split(' ')[0]  # Best attempt index\n",
    "\n",
    "    # Construct the column name for the best result.\n",
    "    column_best = f'counts_p{p}_{i_best}of{random_attempts}'\n",
    "    \n",
    "    # Get the percentage version of df, with average and range columns\n",
    "    percentage = get_percentage_df(df, \n",
    "                                    cols_to_keep=[column_best], \n",
    "                                    sorting_col=column_best)\n",
    "    \n",
    "    \n",
    "    return MEC, percentage\n",
    "\n",
    "\n",
    "def find_mec_percentage(f, d):\n",
    "    MEC, percentage = extract_percentage_from_file(f, d)\n",
    "    tmp = percentage.copy()\n",
    "    tmp[\"states\"] = tmp.index\n",
    "    tmp = tmp[tmp['states'] == MEC]  \n",
    "    \n",
    "    if tmp.empty:\n",
    "        mec_percentage = 0\n",
    "    else:\n",
    "        mec_percentage = tmp.iloc[0][tmp.columns[0]]\n",
    "        \n",
    "    return mec_percentage\n",
    "\n",
    "def build_vector_of_mec_percentages(files, data):\n",
    "    mec_percentages = []\n",
    "    for f, d in zip(files, data):\n",
    "        mec_percentage = find_mec_percentage(f, d)\n",
    "        mec_percentages.append(mec_percentage)\n",
    "\n",
    "    return mec_percentages, np.mean(mec_percentages)\n"
   ]
  },
  {
   "cell_type": "code",
   "execution_count": null,
   "id": "3",
   "metadata": {
    "tags": []
   },
   "outputs": [],
   "source": [
    "# for folder in folder_list_random:\n",
    "for folder in folder_list_wang:\n",
    "    # Find the files that contain every string in 'substrings'.\n",
    "    FILENAME_list, DATA_FILENAME_list = find_files_containing_string(path= f\"./{folder}/\")\n",
    "\n",
    "    # Get the number of files collected.\n",
    "    num_files = len(FILENAME_list)\n",
    "\n",
    "    if num_files>1:\n",
    "        plot_list_of_files(FILENAME_list, DATA_FILENAME_list,\n",
    "                           colorchosen=\"steelblue\", alpha=0.6,\n",
    "                           init_name=\"all1\",\n",
    "                           dont_show_in_title=[\"i\", \"k\"],\n",
    "                           dont_show_in_titles=[\"n\", \"p\", \"ra\", \"init\"],\n",
    "                           figsize=(8,num_files+1),\n",
    "                           dpi=200, N=9) # figsize=(10, 13), dpi=300, N=12 for latex figures\n",
    "    else:\n",
    "        plot_file(FILENAME_list[0], DATA_FILENAME_list[0],\n",
    "                  colorchosen='indigo', alpha=0.4,\n",
    "                  dont_show_in_title = [],\n",
    "                  figsize=(10,4), dpi=200, N=10)"
   ]
  },
  {
   "cell_type": "code",
   "execution_count": null,
   "id": "4",
   "metadata": {
    "tags": []
   },
   "outputs": [],
   "source": [
    "# plot_each_attempt_from_folder(folder_path)"
   ]
  },
  {
   "cell_type": "markdown",
   "id": "5",
   "metadata": {},
   "source": [
    "Per Wang considero solo le 4 istanze problematiche"
   ]
  },
  {
   "cell_type": "code",
   "execution_count": null,
   "id": "6",
   "metadata": {
    "tags": []
   },
   "outputs": [],
   "source": [
    "#********** Wang **********\n",
    "mec_mean_vec = []\n",
    "for folder, label in zip(folder_list_wang, labels):\n",
    "    files, data = find_files_containing_string(path= f\"./{folder}/\")\n",
    "    \n",
    "    if label == \"p=3 LEC\" or label == \"p=4 LEC\":\n",
    "        mec_percentages, mec_mean = build_vector_of_mec_percentages(files, data)\n",
    "    else:\n",
    "        mec_percentages, _ = build_vector_of_mec_percentages(files, data)\n",
    "        mec_percentages = mec_percentages[2:6]\n",
    "        mec_mean = np.mean(mec_percentages)\n",
    "    mec_mean_vec.append(mec_mean)\n",
    "    print(f\"♦ {label} ♦\")\n",
    "    print(f\"   folder '{folder}':\\n   mec_percentages = {mec_percentages} %, \\n   mean: {mec_mean} %\")\n",
    "print(\"\\nmec_mean_perc_vec = \", mec_mean_vec)\n",
    "\n",
    "\n",
    "# ********** Random **********\n",
    "# mec_mean_vec = []\n",
    "# for folder, label in zip(folder_list_wang, labels):\n",
    "#     files, data = find_files_containing_string(path= f\"./{folder}/\")\n",
    "#     mec_percentages, mec_mean = build_vector_of_mec_percentages(files, data)\n",
    "#     mec_mean_vec.append(mec_mean)\n",
    "#     print(f\"♦ {label} ♦\")\n",
    "#     print(f\"   folder '{folder}':\\n   mec_percentages = {mec_percentages} %, \\n   mean: {mec_mean} %\")\n",
    "# print(\"\\nmec_mean_perc_vec = \", mec_mean_vec)"
   ]
  },
  {
   "cell_type": "code",
   "execution_count": null,
   "id": "7",
   "metadata": {
    "tags": []
   },
   "outputs": [],
   "source": [
    "plt.figure(dpi=100)\n",
    "\n",
    "# Random\n",
    "p3 = [30.17578125, 55.44921875, 53.349609375]\n",
    "p4 = [44.521484375, 65.25390625, 69.990234375]\n",
    "\n",
    "l = \"solid\"\n",
    "lw = 0.5\n",
    "plt.plot(p3, \"o\", linestyle=l, linewidth=lw, label=\"p=3\", color='darkorange')\n",
    "plt.plot(p4, \"o\", linestyle=l, linewidth=lw, label=\"p=4\", color='c')\n",
    "mean_p4 = np.mean(p4)\n",
    "mean_p3 = np.mean(p3)\n",
    "plt.axhline(mean_p3, linestyle='dotted', color='darkorange')\n",
    "plt.axhline(mean_p4, linestyle='dotted', color='c')\n",
    "plt.text(2.1, mean_p3, f\"{mean_p3:.2f}%\", color='darkorange', va='top')\n",
    "plt.text(2.1, mean_p4, f\"{mean_p4:.2f}%\", color='c', va='top')\n",
    "# Wang\n",
    "p3 = [50.0, 50.0, 81.3232421875]\n",
    "p4 = [50.0, 91.552734375, 91.455078125]\n",
    "\n",
    "plt.plot(p3, \"o\", linestyle=l, linewidth=lw, label=\"p=3 Wang(3--6)\", color='indigo')\n",
    "plt.plot(p4, \"o\", linestyle=l, linewidth=lw, label=\"p=4 Wang(3--6)\", color='crimson')\n",
    "mean_p4 = np.mean(p4)\n",
    "mean_p3 = np.mean(p3)\n",
    "plt.axhline(mean_p3, linestyle='dotted', color='indigo')\n",
    "plt.axhline(mean_p4, linestyle='dotted', color='crimson')\n",
    "plt.text(2.1, mean_p3, f\"{mean_p3:.2f}%\", color='indigo', va='bottom')\n",
    "plt.text(2.1, mean_p4, f\"{mean_p4:.2f}%\", color='crimson', va='bottom')\n",
    "\n",
    "plt.legend()\n",
    "plt.xticks([0, 1, 2], [\"$k=1$\", \"$k(L_{EC})$\", \"$k(L_{MEC} \\\\approx L_{EC-1})$\"])\n",
    "plt.yticks([x for x in range(30, 91, 10)],[f\"{x}%\" for x in range(30, 91, 10)])\n",
    "plt.ylabel(\"Mean Success Probability\")\n",
    "plt.show()"
   ]
  }
 ],
 "metadata": {
  "kernelspec": {
   "display_name": "Python 3 (ipykernel)",
   "language": "python",
   "name": "python3"
  },
  "language_info": {
   "codemirror_mode": {
    "name": "ipython",
    "version": 3
   },
   "file_extension": ".py",
   "mimetype": "text/x-python",
   "name": "python",
   "nbconvert_exporter": "python",
   "pygments_lexer": "ipython3",
   "version": "3.8.10"
  }
 },
 "nbformat": 4,
 "nbformat_minor": 5
}
