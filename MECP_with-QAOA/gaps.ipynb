{
 "cells": [
  {
   "cell_type": "code",
   "execution_count": 1,
   "id": "3391a77b-1cf0-4854-911b-7f4637c6f156",
   "metadata": {
    "tags": []
   },
   "outputs": [],
   "source": [
    "from __future__ import annotations\n",
    "from utils_to_build_QAOAAnsatz import *\n",
    "\n",
    "from random_instances import info_dim6 as info\n",
    "# from Wang_instances import info_dim6 as info"
   ]
  },
  {
   "cell_type": "code",
   "execution_count": 2,
   "id": "b131c8a2-e4ce-498b-9303-6953432c8670",
   "metadata": {
    "tags": []
   },
   "outputs": [
    {
     "name": "stdout",
     "output_type": "stream",
     "text": [
      "\n",
      "------------------\n",
      "--- Instance 4 ---\n",
      "------------------\n",
      "\n",
      "--- L = 2 ---\n",
      "  Energies of MEC and exact covers:\n",
      "  Energy(100011) = -0.1\n",
      "  Energy(101011) = -0.11428571428571428\n",
      "\n",
      "  ### THE GS IS NOT THE MEC ###\n",
      "  GS: Energy(101011) = -0.11428571428571428\n",
      "\n",
      "  ### THE 1st excited IS NOT AN EXACT COVER ###\n",
      "  1st excited: Energy(001011) = -0.1\n",
      "\n",
      "\n",
      "  The gap GS-1st_excited is 0.014285714285714277.\n",
      "  gap GS-1st_excited / total energy [%]: 12.499999999999993\n",
      "\n",
      "--- L = 3 ---\n",
      "  Energies of MEC and exact covers:\n",
      "  Energy(100011) = -0.17142857142857143\n",
      "  Energy(101011) = -0.19999999999999998\n",
      "\n",
      "  ### THE GS IS NOT THE MEC ###\n",
      "  GS: Energy(101011) = -0.19999999999999998\n",
      "\n",
      "  ### THE 1st excited IS NOT AN EXACT COVER ###\n",
      "  1st excited: Energy(001011) = -0.17142857142857143\n",
      "\n",
      "\n",
      "  The gap GS-1st_excited is 0.028571428571428553.\n",
      "  gap GS-1st_excited / total energy [%]: 14.285714285714276\n"
     ]
    }
   ],
   "source": [
    "n = 6\n",
    "instances = [4]\n",
    "\n",
    "for instance in instances:\n",
    "    print(f\"\\n------------------\")\n",
    "    print(f\"--- Instance {instance} ---\")\n",
    "    print(f\"------------------\")\n",
    "    \n",
    "    # Get and sort exact covers by increasing number of '1's\n",
    "    ec = info[instance][\"exact_covers\"]\n",
    "    ec = sorted(ec, key=lambda x: x.count('1'))\n",
    "    L_list = [e.count(\"1\") - 1 for e in ec]\n",
    "\n",
    "    # Define the problem instance\n",
    "    U, subsets_dict = define_instance(n, instance, verbose=False)\n",
    "    gap_list = []\n",
    "\n",
    "    for L in L_list:\n",
    "        print(f\"\\n--- L = {L} ---\")\n",
    "        k = k_from_L(n, instance, L)\n",
    "\n",
    "        # Compute the feasible spectrum\n",
    "        _, _, states_feas, energies_feas, _ = find_spectrum(U, subsets_dict, n, k)\n",
    "\n",
    "        # Print energies of MEC and exact covers\n",
    "        print(\"  Energies of MEC and exact covers:\")\n",
    "        for e in ec:\n",
    "            energy = compute_energy_Wang(e, U, subsets_dict, k)\n",
    "            print(f\"  Energy({e}) = {energy}\")\n",
    "\n",
    "        # Sort states and energies\n",
    "        sorted_pairs = sorted(zip(energies_feas, states_feas))\n",
    "        energies_feas_sorted = [energy for energy, _ in sorted_pairs]\n",
    "        states_feas_sorted = [state for _, state in sorted_pairs]\n",
    "\n",
    "        # Check if ground state (GS) is the MEC\n",
    "        if states_feas_sorted[0] == ec[0]:\n",
    "            print(\"\\n  ** THE GS IS THE MEC **\")\n",
    "        else:\n",
    "            print(\"\\n  ### THE GS IS NOT THE MEC ###\")\n",
    "        print(f\"  GS: Energy({states_feas_sorted[0]}) = {energies_feas_sorted[0]}\\n\")\n",
    "\n",
    "        # Check if the first excited state is an exact cover (but not the MEC)\n",
    "        if states_feas_sorted[1] != ec[0] and states_feas_sorted[1] in ec:\n",
    "            print(\"  ** THE 1st excited IS AN EXACT COVER **\")\n",
    "        else:\n",
    "            print(\"  ### THE 1st excited IS NOT AN EXACT COVER ###\")\n",
    "        print(f\"  1st excited: Energy({states_feas_sorted[1]}) = {energies_feas_sorted[1]}\\n\")\n",
    "\n",
    "        # Compute energy gap\n",
    "        gap_gs_excited = abs(energies_feas_sorted[0]) - abs(energies_feas_sorted[1])\n",
    "        print(f\"\\n  The gap GS-1st_excited is {gap_gs_excited}.\")\n",
    "\n",
    "        total_energy = abs(min(energies_feas) - max(energies_feas))\n",
    "        print(\"  gap GS-1st_excited / total energy [%]:\", gap_gs_excited / total_energy * 100)\n",
    "\n",
    "        gap_list.append(gap_gs_excited)\n"
   ]
  },
  {
   "cell_type": "code",
   "execution_count": null,
   "id": "d4900bc2-eac9-4b13-a03e-f92f4f0d923c",
   "metadata": {},
   "outputs": [],
   "source": []
  },
  {
   "cell_type": "code",
   "execution_count": null,
   "id": "6fa4c33e-c8ba-4db8-b6c7-ccf15166967e",
   "metadata": {},
   "outputs": [],
   "source": []
  }
 ],
 "metadata": {
  "kernelspec": {
   "display_name": "Python 3 (ipykernel)",
   "language": "python",
   "name": "python3"
  },
  "language_info": {
   "codemirror_mode": {
    "name": "ipython",
    "version": 3
   },
   "file_extension": ".py",
   "mimetype": "text/x-python",
   "name": "python",
   "nbconvert_exporter": "python",
   "pygments_lexer": "ipython3",
   "version": "3.8.10"
  }
 },
 "nbformat": 4,
 "nbformat_minor": 5
}
