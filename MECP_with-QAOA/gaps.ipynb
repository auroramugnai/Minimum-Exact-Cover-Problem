{
 "cells": [
  {
   "cell_type": "markdown",
   "id": "0",
   "metadata": {},
   "source": [
    "Study the gap between ground state (MEC) and first excited states."
   ]
  },
  {
   "cell_type": "code",
   "execution_count": null,
   "id": "1",
   "metadata": {
    "tags": []
   },
   "outputs": [],
   "source": [
    "from __future__ import annotations\n",
    "from utils_to_build_QAOAAnsatz import *\n",
    "\n",
    "from random_instances import info_dim6 as info\n",
    "# from Wang_instances import info_dim6 as info"
   ]
  },
  {
   "cell_type": "code",
   "execution_count": null,
   "id": "2",
   "metadata": {
    "tags": []
   },
   "outputs": [],
   "source": [
    "def compute_k_gap(n, instance, k, verbose):\n",
    "    U, subsets_dict = define_instance(n, instance, verbose=False)\n",
    "\n",
    "    # Find exact covers.\n",
    "    ec = info[instance][\"exact_covers\"]\n",
    "    ec = sorted(ec, key=lambda x: x.count('1'))\n",
    "    mec = ec[0]\n",
    "\n",
    "    # Compute the feasible spectrum.\n",
    "    _, _, states, energies, _ = find_spectrum(U, subsets_dict, n, k)\n",
    "\n",
    "    # Sort states and energies with increasing energy.\n",
    "    sorted_pairs = sorted(zip(energies, states))\n",
    "    energies_sorted = [energy for energy, _ in sorted_pairs]\n",
    "    states_sorted = [state for _, state in sorted_pairs]       \n",
    "\n",
    "    # Compute energy gap.\n",
    "    gap = energies_sorted[1] - energies_sorted[0]\n",
    "    total_energy = max(energies) - min(energies)\n",
    "    percentage_gap = gap / total_energy * 100\n",
    "\n",
    "    if verbose:\n",
    "        print(f\"=== k = {k} ===\")\n",
    "        if states_sorted[0] == mec: \n",
    "            print(\"GS is MEC: True\") \n",
    "        else:\n",
    "            print(\"GS is MEC: False\")\n",
    "        if len(ec) > 1:\n",
    "            if states_sorted[1] in ec and states_sorted[1] != mec:\n",
    "                print(\"1st excited is an EC: True\")\n",
    "            else:\n",
    "                print(\"1st excited is an EC: False\")\n",
    "\n",
    "    return percentage_gap"
   ]
  },
  {
   "cell_type": "code",
   "execution_count": null,
   "id": "3",
   "metadata": {
    "tags": []
   },
   "outputs": [],
   "source": [
    "n = 6\n",
    "for instance in np.arange(1, 5):\n",
    "    print(f\"\\n------------------\")\n",
    "    print(f\"--- Instance {instance} ---\")\n",
    "    print(f\"------------------\")\n",
    "    \n",
    "    # Get and sort exact covers by increasing number of '1's\n",
    "    ec = info[instance][\"exact_covers\"]\n",
    "    ec = sorted(ec, key=lambda x: x.count('1'))\n",
    "    mec = ec[0]\n",
    "    \n",
    "    \n",
    "    L_list = [e.count(\"1\") - 1 for e in ec]\n",
    "    k_list = [k_from_L(n, instance, L) for L in L_list] + [1]\n",
    "    \n",
    "    gap_list = []\n",
    "    for k in k_list:\n",
    "        gap_list.append(compute_k_gap(n, instance, k, verbose=True))\n",
    "\n",
    "    gap_list = [str(round(g,2))+'%' for g in gap_list]\n",
    "\n",
    "    print(\"ec = \", ec)\n",
    "    print(\"\\ngap_list\", gap_list)\n",
    "    print(\"k_list\", k_list)\n",
    "    print(\"L_list\", L_list)"
   ]
  },
  {
   "cell_type": "code",
   "execution_count": null,
   "id": "4",
   "metadata": {
    "tags": []
   },
   "outputs": [],
   "source": [
    "fig, axs = plt.subplots(5, 2, figsize=(12, 12), dpi=300, sharey=True)\n",
    "# fig.suptitle(\"Gap ground state – 1° excited \")\n",
    "axs = axs.flatten() \n",
    "\n",
    "for idx, instance in enumerate(np.arange(1, 11)):\n",
    "    # Get and sort exact covers by increasing number of '1's\n",
    "    ec = info[instance][\"exact_covers\"]\n",
    "    ec = sorted(ec, key=lambda x: x.count('1'))\n",
    "    mec = ec[0]\n",
    "    print(f\"Exact covers for instance {instance}: {ec}\")\n",
    "    \n",
    "    # Cyan line.\n",
    "    ks = np.concatenate([np.linspace(0, 0.1, 1000, endpoint=False),\n",
    "                         np.linspace(0.1, 1, 1000)])  \n",
    "    gaps = [compute_k_gap(n, instance, k, verbose=False) for k in ks]\n",
    "    \n",
    "    # Red points for L-1.\n",
    "    Ls = [e.count(\"1\") - 1 for e in ec]\n",
    "    ks_from_Ls = [k_from_L(n, instance, L) for L in Ls]\n",
    "    gaps_from_Ls = [compute_k_gap(n, instance, k, verbose=False) for k in ks_from_Ls]\n",
    "    \n",
    "    # Black stars for L.\n",
    "    Ls2 = [e.count(\"1\") for e in ec]\n",
    "    ks_from_Ls2 = [k_from_L(n, instance, L) for L in Ls2]\n",
    "    gaps_from_Ls2 = [compute_k_gap(n, instance, k, verbose=False) for k in ks_from_Ls2]\n",
    "\n",
    "    ax = axs[idx]\n",
    "    ax.set_title(f\"Instance {instance}\")\n",
    "    ax.axhline(gaps[-1], color=\"grey\", linestyle=\"--\") # horizontal line corresponding to the gap k=1\n",
    "    ax.plot(ks, gaps, marker='.', linestyle='--', color='c', label='$Gap_{GS-1°}$')\n",
    "    ax.errorbar(ks_from_Ls, gaps_from_Ls, fmt='o', color='red', label=r\"$k(L_{EC}-1)\\ \\forall\\ L_{EC}$\")\n",
    "    ax.errorbar(ks_from_Ls2, gaps_from_Ls2, fmt='*', color='k', label=r\"$k(L_{EC})\\ \\forall\\ L_{EC}$\")\n",
    "    ax.set_xlabel(\"k\")\n",
    "    ax.set_ylabel(\"[%]\")\n",
    "    ax.legend()\n",
    "\n",
    "plt.tight_layout()\n",
    "plt.show()"
   ]
  },
  {
   "cell_type": "code",
   "execution_count": null,
   "id": "5",
   "metadata": {},
   "outputs": [],
   "source": []
  },
  {
   "cell_type": "code",
   "execution_count": null,
   "id": "6",
   "metadata": {},
   "outputs": [],
   "source": []
  }
 ],
 "metadata": {
  "kernelspec": {
   "display_name": "Python 3 (ipykernel)",
   "language": "python",
   "name": "python3"
  },
  "language_info": {
   "codemirror_mode": {
    "name": "ipython",
    "version": 3
   },
   "file_extension": ".py",
   "mimetype": "text/x-python",
   "name": "python",
   "nbconvert_exporter": "python",
   "pygments_lexer": "ipython3",
   "version": "3.12.3"
  }
 },
 "nbformat": 4,
 "nbformat_minor": 5
}
