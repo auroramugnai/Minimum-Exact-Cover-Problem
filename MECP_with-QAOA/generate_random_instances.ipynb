{
 "cells": [
  {
   "cell_type": "code",
   "execution_count": 1,
   "id": "84fa3f64-c4ad-40e1-9a4e-f752793dc8d3",
   "metadata": {
    "tags": []
   },
   "outputs": [],
   "source": [
    "import random\n",
    "import numpy as np\n",
    "\n",
    "from utils_to_study_an_instance import build_instance_graph, find_intersections_lists\n",
    "\n",
    "def compute_mean_valency(subsets, verbose=False):\n",
    "    \"\"\"\n",
    "    Parameters\n",
    "    ----------\n",
    "        subsets (list of sets)\n",
    "    \n",
    "    Return\n",
    "    ------\n",
    "        mean_valency (float)\n",
    "    \"\"\"\n",
    "    \n",
    "    ### Find the list of intersections\n",
    "    # For every subset, find the subsets it has a non-zero intersection with\n",
    "    list_of_intersections = find_intersections_lists(subsets)\n",
    "    \n",
    "    ### Find the valencies for each subset (i.e., the number of subsets it intersects with)\n",
    "    valencies = [len(x) for x in list_of_intersections]\n",
    "    mean_valency = np.mean(valencies)\n",
    "    if verbose:\n",
    "        print(\"valencies: \", valencies)\n",
    "        print(\"mean_valency: \", mean_valency)\n",
    "    \n",
    "    return mean_valency\n"
   ]
  },
  {
   "cell_type": "code",
   "execution_count": 2,
   "id": "aabacadd-1a32-4508-afbd-4dbc795a5aba",
   "metadata": {
    "tags": []
   },
   "outputs": [
    {
     "name": "stdout",
     "output_type": "stream",
     "text": [
      "mean_valency = 1.3333333333333333\n"
     ]
    },
    {
     "data": {
      "image/png": "[encoded data removed]",
      "text/plain": [
       "<Figure size 640x480 with 1 Axes>"
      ]
     },
     "metadata": {},
     "output_type": "display_data"
    }
   ],
   "source": [
    "subsets = [{1}, {1,2}, {2}]\n",
    "build_instance_graph(subsets, verbose=False, draw_graph=True)\n",
    "mean_valency = compute_mean_valency(subsets)\n",
    "print(f\"mean_valency = {mean_valency}\")\n"
   ]
  },
  {
   "cell_type": "code",
   "execution_count": 3,
   "id": "369f1cf1-c3dd-4f20-8d48-2edda00b1f7f",
   "metadata": {
    "tags": []
   },
   "outputs": [
    {
     "name": "stdout",
     "output_type": "stream",
     "text": [
      "mec: [{8, 9, 10, 6}, {1, 2, 3, 4, 5, 7, 11, 12}]\n",
      "not mec [{5}, {2}, {7}, {8}]\n",
      "subsets: [{8, 9, 10, 6}, {1, 2, 3, 4, 5, 7, 11, 12}, {5}, {9, 2}, {8, 2}, {12, 7}]\n",
      "mean_valency:  2.3333333333333335\n"
     ]
    }
   ],
   "source": [
    "import copy\n",
    "\n",
    "U = {1, 2, 3, 4, 5, 6, 7, 8, 9, 10, 11, 12}\n",
    "n = 6\n",
    "max_length = 10\n",
    "mec_length = 2\n",
    "subsets = []\n",
    "\n",
    "### Generate the MEC with 2 subsets.\n",
    "\n",
    "# Random set with between 2 and 11 elements\n",
    "subsets.append(set(random.sample(U, random.randint(2, max_length))))\n",
    "\n",
    "# The complementary set.\n",
    "subsets.append(U - subsets[0])\n",
    "\n",
    "mec = [subsets[0] , U - subsets[0]]\n",
    "print(\"mec:\", mec)\n",
    "\n",
    "# Generate the other subsets.\n",
    "not_mec = []\n",
    "for _ in range(n - mec_length):\n",
    "    random_single_set = set([random.randint(1,12)])\n",
    "    not_mec.append(random_single_set)\n",
    "print(\"not mec\", not_mec)\n",
    "\n",
    "\n",
    "ITERATION = 0\n",
    "\n",
    "while ITERATION < 50:\n",
    "    ITERATION += 1\n",
    "    \n",
    "    # Shuffle the \"not_mec\" part of subsets,\n",
    "    subsets = mec + random.sample(not_mec, len(not_mec))\n",
    "    \n",
    "    subsets_tmp = copy.deepcopy(subsets)\n",
    "    for subset in subsets_tmp[2::]:\n",
    "        subset.add(random.randint(1,12))\n",
    "\n",
    "        mean_valency = compute_mean_valency(subsets_tmp)\n",
    "        # print(\"mean_valency: \", mean_valency)\n",
    "        \n",
    "        check = np.all([len(s) < max_length for s in subsets_tmp])\n",
    "        # print(\"check\", check)\n",
    "        if (1 < mean_valency < 5) and check:\n",
    "            subsets = subsets_tmp\n",
    "            continue\n",
    "        else:\n",
    "            print(\"fail\")\n",
    "            ITERATION = 0\n",
    "            break\n",
    "\n",
    "print(\"subsets:\", subsets)\n",
    "print(\"mean_valency: \", mean_valency)"
   ]
  },
  {
   "cell_type": "code",
   "execution_count": null,
   "id": "8f67fecf-8106-469b-892f-44085498eeaf",
   "metadata": {
    "tags": []
   },
   "outputs": [],
   "source": []
  },
  {
   "cell_type": "code",
   "execution_count": null,
   "id": "45aaf8aa-8345-41b9-88bb-efa9aa029f18",
   "metadata": {},
   "outputs": [],
   "source": []
  }
 ],
 "metadata": {
  "kernelspec": {
   "display_name": "Python 3 (ipykernel)",
   "language": "python",
   "name": "python3"
  },
  "language_info": {
   "codemirror_mode": {
    "name": "ipython",
    "version": 3
   },
   "file_extension": ".py",
   "mimetype": "text/x-python",
   "name": "python",
   "nbconvert_exporter": "python",
   "pygments_lexer": "ipython3",
   "version": "3.8.10"
  }
 },
 "nbformat": 4,
 "nbformat_minor": 5
}
