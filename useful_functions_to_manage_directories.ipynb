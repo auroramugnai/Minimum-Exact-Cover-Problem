{
 "cells": [
  {
   "cell_type": "code",
   "execution_count": 1,
   "id": "927f82dc-f27b-47d8-bf96-fab2c951f529",
   "metadata": {},
   "outputs": [],
   "source": [
    "import os\n",
    "import re\n",
    "from datetime import datetime\n",
    "from ipynb.fs.full.useful_functions_for_plotting_and_reading import define_parameters_from_filename\n",
    "import os\n",
    "import numpy as np"
   ]
  },
  {
   "cell_type": "markdown",
   "id": "792a8441-d28b-4146-aeac-2bc0f33757b2",
   "metadata": {},
   "source": [
    "### Funzione per SOSTITUIRE una certa sottostringa in tutti i file di una directory."
   ]
  },
  {
   "cell_type": "code",
   "execution_count": 2,
   "id": "90a0f778-b3c8-4d2f-afbf-5c3d5efb1dfe",
   "metadata": {},
   "outputs": [],
   "source": [
    "def rename_files_in_directory(directory_path, old_substring, new_substring):\n",
    "    \"\"\"\n",
    "    Sostituisce una sottostringa nei nomi di tutti i file di una directory,\n",
    "    ma solo per i file con estensione .csv o .txt..\n",
    "    \n",
    "    Args:\n",
    "        directory_path (str): Percorso alla directory.\n",
    "        old_substring (str): Sottostringa da sostituire.\n",
    "        new_substring (str): Nuova sottostringa per la sostituzione.\n",
    "    \"\"\"\n",
    "    # Verifica che la directory esista\n",
    "    if not os.path.isdir(directory_path):\n",
    "        print(f\"La directory '{directory_path}' non esiste.\")\n",
    "        return\n",
    "\n",
    "    # Itera sui file nella directory\n",
    "    for filename in os.listdir(directory_path):\n",
    "        # Controlla se la sottostringa è presente nel nome del file\n",
    "        if old_substring in filename and (filename.endswith('.csv') or filename.endswith('.txt')):\n",
    "            # Crea il nuovo nome del file\n",
    "            new_filename = filename.replace(old_substring, new_substring)\n",
    "            # Percorsi completi per rinominare\n",
    "            old_filepath = os.path.join(directory_path, filename)\n",
    "            new_filepath = os.path.join(directory_path, new_filename)\n",
    "            # Rinomina il file\n",
    "            os.rename(old_filepath, new_filepath)\n",
    "            print(f\"Rinominato: {filename} -> {new_filename}\")"
   ]
  },
  {
   "cell_type": "markdown",
   "id": "de69b04b-81dd-4b99-8ca8-4eb6e751790f",
   "metadata": {},
   "source": [
    "#### Esempio di utilizzo"
   ]
  },
  {
   "cell_type": "code",
   "execution_count": 3,
   "id": "25833dbb-a6d1-40fc-aa9c-127dd2eed933",
   "metadata": {},
   "outputs": [
    {
     "name": "stdout",
     "output_type": "stream",
     "text": [
      "Rinominato: k_L=n@21-12_dim6_mail1_['000001', '000010', '000100', '001000', '010000', '100000']_random_p3_20ra_k0.334_BOUNDS[0,2pi]x[-44,44]_pars0[0,2pi]x[-44,44].csv -> k_L=n@21-12_dim6_mail1_all1_random_p3_20ra_k0.334_BOUNDS[0,2pi]x[-44,44]_pars0[0,2pi]x[-44,44].csv\n",
      "Rinominato: k_L=n@21-12_dim6_mail1_['000001', '000010', '000100', '001000', '010000', '100000']_random_p3_20ra_k0.334_BOUNDS[0,2pi]x[-44,44]_pars0[0,2pi]x[-44,44]_data.txt -> k_L=n@21-12_dim6_mail1_all1_random_p3_20ra_k0.334_BOUNDS[0,2pi]x[-44,44]_pars0[0,2pi]x[-44,44]_data.txt\n",
      "Rinominato: k_L=n@21-12_dim6_mail2_['000001', '000010', '000100', '001000', '010000', '100000']_random_p3_20ra_k0.5_BOUNDS[0,2pi]x[-44,44]_pars0[0,2pi]x[-44,44].csv -> k_L=n@21-12_dim6_mail2_all1_random_p3_20ra_k0.5_BOUNDS[0,2pi]x[-44,44]_pars0[0,2pi]x[-44,44].csv\n",
      "Rinominato: k_L=n@21-12_dim6_mail2_['000001', '000010', '000100', '001000', '010000', '100000']_random_p3_20ra_k0.5_BOUNDS[0,2pi]x[-44,44]_pars0[0,2pi]x[-44,44]_data.txt -> k_L=n@21-12_dim6_mail2_all1_random_p3_20ra_k0.5_BOUNDS[0,2pi]x[-44,44]_pars0[0,2pi]x[-44,44]_data.txt\n",
      "Rinominato: k_L=n@21-12_dim6_mail3_['000001', '000010', '000100', '001000', '010000', '100000']_random_p3_20ra_k0.5_BOUNDS[0,2pi]x[-44,44]_pars0[0,2pi]x[-44,44].csv -> k_L=n@21-12_dim6_mail3_all1_random_p3_20ra_k0.5_BOUNDS[0,2pi]x[-44,44]_pars0[0,2pi]x[-44,44].csv\n",
      "Rinominato: k_L=n@21-12_dim6_mail3_['000001', '000010', '000100', '001000', '010000', '100000']_random_p3_20ra_k0.5_BOUNDS[0,2pi]x[-44,44]_pars0[0,2pi]x[-44,44]_data.txt -> k_L=n@21-12_dim6_mail3_all1_random_p3_20ra_k0.5_BOUNDS[0,2pi]x[-44,44]_pars0[0,2pi]x[-44,44]_data.txt\n",
      "Rinominato: k_L=n@21-12_dim6_mail4_['000001', '000010', '000100', '001000', '010000', '100000']_random_p3_20ra_k0.334_BOUNDS[0,2pi]x[-44,44]_pars0[0,2pi]x[-44,44].csv -> k_L=n@21-12_dim6_mail4_all1_random_p3_20ra_k0.334_BOUNDS[0,2pi]x[-44,44]_pars0[0,2pi]x[-44,44].csv\n",
      "Rinominato: k_L=n@21-12_dim6_mail4_['000001', '000010', '000100', '001000', '010000', '100000']_random_p3_20ra_k0.334_BOUNDS[0,2pi]x[-44,44]_pars0[0,2pi]x[-44,44]_data.txt -> k_L=n@21-12_dim6_mail4_all1_random_p3_20ra_k0.334_BOUNDS[0,2pi]x[-44,44]_pars0[0,2pi]x[-44,44]_data.txt\n",
      "Rinominato: k_L=n@21-12_dim6_mail5_['000001', '000010', '000100', '001000', '010000', '100000']_random_p3_20ra_k0.5_BOUNDS[0,2pi]x[-44,44]_pars0[0,2pi]x[-44,44].csv -> k_L=n@21-12_dim6_mail5_all1_random_p3_20ra_k0.5_BOUNDS[0,2pi]x[-44,44]_pars0[0,2pi]x[-44,44].csv\n",
      "Rinominato: k_L=n@21-12_dim6_mail5_['000001', '000010', '000100', '001000', '010000', '100000']_random_p3_20ra_k0.5_BOUNDS[0,2pi]x[-44,44]_pars0[0,2pi]x[-44,44]_data.txt -> k_L=n@21-12_dim6_mail5_all1_random_p3_20ra_k0.5_BOUNDS[0,2pi]x[-44,44]_pars0[0,2pi]x[-44,44]_data.txt\n",
      "Rinominato: k_L=n@21-12_dim6_mail6_['000001', '000010', '000100', '001000', '010000', '100000']_random_p3_20ra_k0.5_BOUNDS[0,2pi]x[-44,44]_pars0[0,2pi]x[-44,44].csv -> k_L=n@21-12_dim6_mail6_all1_random_p3_20ra_k0.5_BOUNDS[0,2pi]x[-44,44]_pars0[0,2pi]x[-44,44].csv\n",
      "Rinominato: k_L=n@21-12_dim6_mail6_['000001', '000010', '000100', '001000', '010000', '100000']_random_p3_20ra_k0.5_BOUNDS[0,2pi]x[-44,44]_pars0[0,2pi]x[-44,44]_data.txt -> k_L=n@21-12_dim6_mail6_all1_random_p3_20ra_k0.5_BOUNDS[0,2pi]x[-44,44]_pars0[0,2pi]x[-44,44]_data.txt\n",
      "Rinominato: k_L=n@21-12_dim6_mail7_['000001', '000010', '000100', '001000', '010000', '100000']_random_p3_20ra_k0.5_BOUNDS[0,2pi]x[-44,44]_pars0[0,2pi]x[-44,44].csv -> k_L=n@21-12_dim6_mail7_all1_random_p3_20ra_k0.5_BOUNDS[0,2pi]x[-44,44]_pars0[0,2pi]x[-44,44].csv\n",
      "Rinominato: k_L=n@21-12_dim6_mail7_['000001', '000010', '000100', '001000', '010000', '100000']_random_p3_20ra_k0.5_BOUNDS[0,2pi]x[-44,44]_pars0[0,2pi]x[-44,44]_data.txt -> k_L=n@21-12_dim6_mail7_all1_random_p3_20ra_k0.5_BOUNDS[0,2pi]x[-44,44]_pars0[0,2pi]x[-44,44]_data.txt\n",
      "Rinominato: k_L=n@21-12_dim6_mail8_['000001', '000010', '000100', '001000', '010000', '100000']_random_p3_20ra_k0.334_BOUNDS[0,2pi]x[-44,44]_pars0[0,2pi]x[-44,44].csv -> k_L=n@21-12_dim6_mail8_all1_random_p3_20ra_k0.334_BOUNDS[0,2pi]x[-44,44]_pars0[0,2pi]x[-44,44].csv\n",
      "Rinominato: k_L=n@21-12_dim6_mail8_['000001', '000010', '000100', '001000', '010000', '100000']_random_p3_20ra_k0.334_BOUNDS[0,2pi]x[-44,44]_pars0[0,2pi]x[-44,44]_data.txt -> k_L=n@21-12_dim6_mail8_all1_random_p3_20ra_k0.334_BOUNDS[0,2pi]x[-44,44]_pars0[0,2pi]x[-44,44]_data.txt\n",
      "Rinominato: k_L=n@21-12_dim6_mail9_['000001', '000010', '000100', '001000', '010000', '100000']_random_p3_20ra_k0.25_BOUNDS[0,2pi]x[-44,44]_pars0[0,2pi]x[-44,44]_data.txt -> k_L=n@21-12_dim6_mail9_all1_random_p3_20ra_k0.25_BOUNDS[0,2pi]x[-44,44]_pars0[0,2pi]x[-44,44]_data.txt\n"
     ]
    }
   ],
   "source": [
    "directory = \"./\"\n",
    "old_substring = \"['000001', '000010', '000100', '001000', '010000', '100000']\" # Sottostringa da sostituire\n",
    "new_substring = \"all1\" # Nuova sottostringa\n",
    "\n",
    "rename_files_in_directory(directory, old_substring, new_substring)"
   ]
  },
  {
   "cell_type": "markdown",
   "id": "545dc5ff-d370-42f8-84d0-6934bdf32f3c",
   "metadata": {},
   "source": [
    "### Funzione per ELIMINARE PRIMA DI una certa sottostringa in tutti i file di una directory.¶"
   ]
  },
  {
   "cell_type": "code",
   "execution_count": 10,
   "id": "2d54a28d-a042-4a2e-a6b8-1efe57fc8573",
   "metadata": {},
   "outputs": [],
   "source": [
    "def remove_before_substring_in_directory(directory_path, substring):\n",
    "    \"\"\"\n",
    "    Rimuove tutto ciò che si trova prima di una determinata sottostringa, mantenendo la sottostringa stessa e tutto il resto\n",
    "    nel nome di tutti i file di una directory, ma solo per i file con estensione .csv o .txt.\n",
    "    \n",
    "    Args:\n",
    "        directory_path (str): Percorso alla directory.\n",
    "        substring (str): Sottostringa dopo cui mantenere il nome del file, inclusa.\n",
    "    \"\"\"\n",
    "    # Verifica che la directory esista\n",
    "    if not os.path.isdir(directory_path):\n",
    "        print(f\"La directory '{directory_path}' non esiste.\")\n",
    "        return\n",
    "\n",
    "    # Itera sui file nella directory\n",
    "    for filename in os.listdir(directory_path):\n",
    "        # Controlla se la sottostringa è presente nel nome del file e se è un file .csv o .txt\n",
    "        if substring in filename and (filename.endswith('.csv') or filename.endswith('.txt')):\n",
    "            # Trova la posizione della sottostringa e rimuove tutto prima di essa (incluso)\n",
    "            start_index = filename.find(substring)\n",
    "            new_filename = filename[start_index:]  # Mantieni la sottostringa e tutto dopo di essa\n",
    "            # Percorsi completi per rinominare\n",
    "            old_filepath = os.path.join(directory_path, filename)\n",
    "            new_filepath = os.path.join(directory_path, new_filename)\n",
    "            # Rinomina il file\n",
    "            os.rename(old_filepath, new_filepath)\n",
    "            print(f\"Rinominato: {filename} -> {new_filename}\")\n"
   ]
  },
  {
   "cell_type": "code",
   "execution_count": 11,
   "id": "6d3531b4-71bd-47b3-9d87-19f5ca4ff141",
   "metadata": {},
   "outputs": [],
   "source": [
    "# # Choose the directory and remove substrings before a certain substring\n",
    "# directory = \"./FILES_PER-IMMAGINI-LATEX/tutte-le-istanze_all1_50ra/\"\n",
    "# remove_before_substring_in_directory(directory, \"serietutteistanze50\")"
   ]
  },
  {
   "cell_type": "markdown",
   "id": "18b81fb4-b13b-4dee-b158-b6a85789ec2a",
   "metadata": {
    "jp-MarkdownHeadingCollapsed": true
   },
   "source": [
    "### Funzione per leggere i file txt, scorrerli per trovare il migliore tentativo e i vari dati associati."
   ]
  },
  {
   "cell_type": "code",
   "execution_count": 12,
   "id": "5e6b0280-3e00-48b9-8696-8dc4ae324426",
   "metadata": {},
   "outputs": [],
   "source": [
    "def analyze_attempts(datafile_path, define_parameters=True):\n",
    "    \"\"\"\n",
    "    Analizza un file per identificare i parametri associati al miglior tentativo.\n",
    "    \n",
    "    Args:\n",
    "        file_path (str): Percorso al file di input.\n",
    "    \n",
    "    Returns:\n",
    "        dict: Dizionario contenente i dati estratti.\n",
    "    \"\"\"\n",
    "    file_path = datafile_path.split(\"_data\")[0] + \".csv\"\n",
    "\n",
    "    n, instance, init_name, p, ra, k = define_parameters_from_filename(file_path, verbose=True)\n",
    "    \n",
    "    with open(datafile_path, \"r\") as file:\n",
    "        lines = file.readlines()\n",
    "\n",
    "    # Iterare attraverso i tentativi per trovare il migliore dal fondo\n",
    "    for line in reversed(lines):\n",
    "        if \"Attempt that reached the best result\" in line:\n",
    "            best_attempt = int(re.search(r\"#(\\d+)\", line).group(1))\n",
    "\n",
    "    # Trovare i parametri del migliore \n",
    "    best_idx = len(lines)\n",
    "    for idx,line in enumerate(lines):\n",
    "        if idx == 0: \n",
    "            datetime_str = line.split(\"= \")[1]\n",
    "        if idx == 1:\n",
    "            p = int(line.split(\"=\")[1])\n",
    "        if idx == 3:\n",
    "            init_name = line.split(\":\")\n",
    "        if f\"----- {best_attempt}/{ra} random_attempts -----\" in line:\n",
    "            best_idx = idx\n",
    "        if idx == best_idx+2:\n",
    "            best_E_min = float(line.split('E_min = ')[1])\n",
    "        if idx == best_idx+3:\n",
    "            best_betas = list(map(float, re.search(r\"betas = \\[(.*?)\\]\", line).group(1).split(\", \")))\n",
    "            best_gammas = list(map(float, re.search(r\"gammas = \\[(.*?)\\]\",  line).group(1).split(\", \")))\n",
    "            break\n",
    "\n",
    "    # Estrarre il tempo totale\n",
    "    elapsed_time = float(re.search(r\"TOTAL ELAPSED TIME: ([\\d.]+)\", \"\".join(lines)).group(1))\n",
    "\n",
    "    # Restituire i risultati in un dizionario\n",
    "    return {\n",
    "        \"current_datetime\": datetime_str,\n",
    "        \"p\": p,\n",
    "        \"init_name\": init_name,\n",
    "        \"best_attempt\": best_attempt,\n",
    "        \"best_E_min\": best_E_min,\n",
    "        \"betas\": best_betas,\n",
    "        \"gammas\": best_gammas,\n",
    "        \"total_elapsed_time_minutes\": elapsed_time,\n",
    "    }"
   ]
  },
  {
   "cell_type": "code",
   "execution_count": 13,
   "id": "92ce8636-7f14-4174-84a0-ae94db56ea41",
   "metadata": {},
   "outputs": [],
   "source": [
    "# # Esempio di utilizzo della funzione\n",
    "# datafile_path = \"./solotol1e4_@09-12_dim6_mail3_all1_random_p3_50ra_k1_BOUNDS[0,2pi]x[-20,20]_pars0[0,2pi]x[-20,20]_data.txt\"\n",
    "# results = analyze_attempts(datafile_path)\n",
    "# for key, value in results.items():\n",
    "#     print(f\"{key}: {value}\")"
   ]
  },
  {
   "cell_type": "markdown",
   "id": "dd25c9ac-e282-4dca-a2a5-d4ab724accc5",
   "metadata": {
    "jp-MarkdownHeadingCollapsed": true
   },
   "source": [
    "### Applico la funzione precedente a tutti i file della directory"
   ]
  },
  {
   "cell_type": "code",
   "execution_count": 14,
   "id": "eef48d77-e223-4a5c-b93e-5d8e7e336c49",
   "metadata": {},
   "outputs": [],
   "source": [
    "def analyze_all_files_with_substring(directory_path, substrings):\n",
    "    \"\"\"\n",
    "    Applica la funzione analyze_attempts a tutti i file nella cartella corrente\n",
    "    che contengono una determinata sottostringa.\n",
    "    \n",
    "    Args:\n",
    "        directory_path (str): Percorso della cartella da analizzare.\n",
    "        substrings (list of str): Sottostringhe da cercare nei nomi dei file.\n",
    "    \n",
    "    Returns:\n",
    "        list: Una lista di dizionari con i risultati per ciascun file.\n",
    "    \"\"\"\n",
    "    results = []\n",
    "    \n",
    "    # Verifica che la directory esista\n",
    "    if not os.path.isdir(directory_path):\n",
    "        print(f\"La directory '{directory_path}' non esiste.\")\n",
    "        return results\n",
    "    \n",
    "    # Itera su tutti i file nella directory\n",
    "    for filename in os.listdir(directory_path):\n",
    "        if np.all([s in filename for s in substrings]):  # Controlla la sottostringa nel nome del file\n",
    "            file_path = os.path.join(directory_path, filename)\n",
    "            try:\n",
    "                # Applica la funzione analyze_attempts\n",
    "                result = analyze_attempts(file_path)\n",
    "                result[\"filename\"] = filename  # Aggiungi il nome del file ai risultati\n",
    "                results.append(result)\n",
    "            except Exception as e:\n",
    "                print(f\"Errore durante l'analisi del file {filename}: {e}\")\n",
    "    \n",
    "    return results"
   ]
  },
  {
   "cell_type": "code",
   "execution_count": 15,
   "id": "2032a271-5e48-4362-9cc4-150107eadbba",
   "metadata": {},
   "outputs": [],
   "source": [
    "# results = analyze_all_files_with_substring(\"./\", [\"tutteistanze50\", \"_data\"])\n",
    "\n",
    "# for d in results:\n",
    "#     print(d[\"filename\"])\n",
    "#     print(\"betas: \", d[\"betas\"])\n",
    "#     print(\"gammas: \", d[\"gammas\"])\n",
    "#     print(\"\\n\")"
   ]
  },
  {
   "cell_type": "code",
   "execution_count": null,
   "id": "8e061373-785e-47c8-b0b8-7b897670eb98",
   "metadata": {},
   "outputs": [],
   "source": []
  },
  {
   "cell_type": "code",
   "execution_count": null,
   "id": "8c2cc4d4-1093-4264-8768-1eed9220a526",
   "metadata": {},
   "outputs": [],
   "source": []
  }
 ],
 "metadata": {
  "kernelspec": {
   "display_name": "Python 3 (ipykernel)",
   "language": "python",
   "name": "python3"
  },
  "language_info": {
   "codemirror_mode": {
    "name": "ipython",
    "version": 3
   },
   "file_extension": ".py",
   "mimetype": "text/x-python",
   "name": "python",
   "nbconvert_exporter": "python",
   "pygments_lexer": "ipython3",
   "version": "3.8.10"
  }
 },
 "nbformat": 4,
 "nbformat_minor": 5
}
