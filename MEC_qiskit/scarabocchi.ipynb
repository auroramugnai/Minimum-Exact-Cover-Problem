{
 "cells": [
  {
   "cell_type": "code",
   "execution_count": 64,
   "id": "6761ea8d-ee88-4a67-aff0-b65e8aa517c8",
   "metadata": {},
   "outputs": [
    {
     "name": "stdout",
     "output_type": "stream",
     "text": [
      "(4, 10)\n",
      "[[1. 0. 0. 0. 0. 1. 0. 0. 0. 0.]\n",
      " [0. 0. 1. 0. 0. 1. 1. 0. 0. 0.]\n",
      " [0. 0. 1. 0. 0. 1. 0. 1. 1. 0.]\n",
      " [0. 0. 0. 0. 1. 1. 0. 1. 0. 0.]]\n",
      "[False  True False  True False  True False False False  True]\n",
      "fixed_qubits [1, 3, 5, 9]\n",
      "mat [[1. 0. 0. 0.]\n",
      " [0. 0. 0. 0.]\n",
      " [0. 1. 1. 0.]\n",
      " [0. 0. 0. 0.]\n",
      " [0. 0. 0. 1.]\n",
      " [1. 1. 1. 1.]\n",
      " [0. 1. 0. 0.]\n",
      " [0. 0. 1. 1.]\n",
      " [0. 0. 1. 0.]\n",
      " [0. 0. 0. 0.]]\n",
      "l [[1. 0. 0. 0.]\n",
      " [0. 1. 1. 0.]\n",
      " [0. 0. 0. 1.]\n",
      " [0. 1. 0. 0.]\n",
      " [0. 0. 1. 1.]\n",
      " [0. 0. 1. 0.]]\n",
      "{0: array([1., 0., 0., 0.]), 1: array([0., 0., 0., 0.]), 2: array([0., 1., 1., 0.]), 3: array([0., 0., 0., 0.]), 4: array([0., 0., 0., 1.]), 5: array([1., 1., 1., 1.]), 6: array([0., 1., 0., 0.]), 7: array([0., 0., 1., 1.]), 8: array([0., 0., 1., 0.]), 9: array([0., 0., 0., 0.])}\n",
      "{0: array([1., 0., 0., 0.]), 2: array([0., 1., 1., 0.]), 4: array([0., 0., 0., 1.]), 6: array([0., 1., 0., 0.]), 7: array([0., 0., 1., 1.]), 8: array([0., 0., 1., 0.])}\n"
     ]
    }
   ],
   "source": [
    "from qiskit.quantum_info import random_statevector\n",
    "from qiskit import QuantumCircuit\n",
    "import numpy as np\n",
    "\n",
    "###\n",
    "# posso inizializzare solo random \n",
    "# state = random_statevector(4) # note: the parameter you pass is the number of entries in the vector, not the number of qubits\n",
    "# qc.initialize(state.data, [0,1])\n",
    "\n",
    "exact_covers = [\"1000010000\", \"0010011000\",\"0010010110\",\"0000110100\"] \n",
    "\n",
    "nrows = len(exact_covers)\n",
    "ncols = len(exact_covers[0])\n",
    "mat = np.zeros(shape=(nrows, ncols))\n",
    "print(np.shape(mat))\n",
    "for x,state in enumerate(exact_covers):\n",
    "    for y,bit in enumerate(state):\n",
    "        mat[x][y] = bit\n",
    "        \n",
    "mat = np.array(mat)\n",
    "print(mat)\n",
    "# for i, bit in enumerate(\"010\"):\n",
    "#     qc.initialize(bit, i)\n",
    "\n",
    "# for y in range(ncols):\n",
    "res = np.all(mat == mat[0,:], axis = 0)\n",
    "print(res)\n",
    "fixed_qubits = list(np.where(res == True)[0])\n",
    "# fixed_qubits = [int(x) for x in fixed_qubits ]\n",
    "print(\"fixed_qubits\", fixed_qubits)\n",
    "# i qubit da fissare a un valore costante\n",
    "\n",
    "\n",
    "l = np.array([x[~res] for x in mat])\n",
    "mat = mat.T\n",
    "d = {k:v for k,v in enumerate(mat)}\n",
    "l = l.T\n",
    "print(\"mat\", mat)\n",
    "print(\"l\", l)\n",
    "print(d)\n",
    "\n",
    "new_d = {k:v for k,v in d.items() if k not in fixed_qubits}\n",
    "\n",
    "print(new_d)"
   ]
  },
  {
   "cell_type": "code",
   "execution_count": 21,
   "id": "2fcf0730-1e3b-4514-af57-15480311a364",
   "metadata": {},
   "outputs": [
    {
     "data": {
      "image/png": "[encoded data removed]",
      "text/plain": [
       "<Figure size 580.387x367.889 with 1 Axes>"
      ]
     },
     "execution_count": 21,
     "metadata": {},
     "output_type": "execute_result"
    }
   ],
   "source": [
    "num_qubits = 3\n",
    "qc = QuantumCircuit(num_qubits)\n",
    "\n",
    "qc.h(0)\n",
    "qc.measure_all()\n",
    "qc.draw('mpl')"
   ]
  }
 ],
 "metadata": {
  "kernelspec": {
   "display_name": "Python 3 (ipykernel)",
   "language": "python",
   "name": "python3"
  },
  "language_info": {
   "codemirror_mode": {
    "name": "ipython",
    "version": 3
   },
   "file_extension": ".py",
   "mimetype": "text/x-python",
   "name": "python",
   "nbconvert_exporter": "python",
   "pygments_lexer": "ipython3",
   "version": "3.8.10"
  }
 },
 "nbformat": 4,
 "nbformat_minor": 5
}
